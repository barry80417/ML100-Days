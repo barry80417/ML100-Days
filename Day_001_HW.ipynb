{
  "cells": [
    {
      "cell_type": "markdown",
      "metadata": {
        "id": "view-in-github",
        "colab_type": "text"
      },
      "source": [
        "<a href=\"https://colab.research.google.com/github/barry80417/ML100-Days/blob/master/Day_001_HW.ipynb\" target=\"_parent\"><img src=\"https://colab.research.google.com/assets/colab-badge.svg\" alt=\"Open In Colab\"/></a>"
      ]
    },
    {
      "cell_type": "markdown",
      "metadata": {
        "id": "o1mqkYzYeehx"
      },
      "source": [
        "## 練習時間\n",
        "#### 請寫一個函式用來計算 Mean Square Error\n",
        "$ MSE = \\frac{1}{n}\\sum_{i=1}^{n}{(Y_i - \\hat{Y}_i)^2} $\n",
        "\n",
        "### Hint: [如何取平方](https://googoodesign.gitbooks.io/-ezpython/unit-1.html)"
      ]
    },
    {
      "cell_type": "markdown",
      "metadata": {
        "id": "hWmR9LKAeeh4"
      },
      "source": [
        "# [作業目標]\n",
        "- 仿造範例的MAE函數, 自己寫一個MSE函數(參考上面公式)"
      ]
    },
    {
      "cell_type": "markdown",
      "metadata": {
        "id": "OWq3Gs5yeeh5"
      },
      "source": [
        "# [作業重點]\n",
        "- 注意程式的縮排\n",
        "- 是否能將數學公式, 轉換為 Python 的函式組合? (In[2], Out[2])"
      ]
    },
    {
      "cell_type": "code",
      "execution_count": null,
      "metadata": {
        "collapsed": true,
        "id": "qY1qV3RYeeh6"
      },
      "outputs": [],
      "source": [
        "# 載入基礎套件與代稱\n",
        "import numpy as np\n",
        "import matplotlib.pyplot as plt"
      ]
    },
    {
      "cell_type": "code",
      "execution_count": null,
      "metadata": {
        "collapsed": true,
        "id": "EtmQ-2Eieeh_"
      },
      "outputs": [],
      "source": [
        "def mean_absolute_error(y, yp):\n",
        "    \"\"\"\n",
        "    計算 MAE\n",
        "    Args:\n",
        "        - y: 實際值\n",
        "        - yp: 預測值\n",
        "    Return:\n",
        "        - mae: MAE\n",
        "    \"\"\"\n",
        "    mae = MAE = sum(abs(y - yp)) / len(y)\n",
        "    return mae\n",
        "\n",
        "# 定義 mean_squared_error 這個函數, 計算並傳回 MSE\n",
        "def mean_squared_error(y, yp):\n",
        "    \"\"\"\n",
        "    請完成這個 Function 後往下執行\n",
        "    \"\"\"\n",
        "    mse = MSE = sum(abs(y - yp)**2) / len(y)\n",
        "    return mse"
      ]
    },
    {
      "cell_type": "code",
      "execution_count": null,
      "metadata": {
        "collapsed": true,
        "colab": {
          "base_uri": "https://localhost:8080/",
          "height": 281
        },
        "id": "UAyw_PhJeeiA",
        "outputId": "f7527428-779a-42ce-9002-ec3498723ec1"
      },
      "outputs": [
        {
          "output_type": "display_data",
          "data": {
            "text/plain": [
              "<Figure size 432x288 with 1 Axes>"
            ],
            "image/png": "[encoded data removed]"
          },
          "metadata": {
            "needs_background": "light"
          }
        }
      ],
      "source": [
        "# 與範例相同, 不另外解說\n",
        "w = 3\n",
        "b = 0.5\n",
        "x_lin = np.linspace(0, 100, 101)\n",
        "y = (x_lin + np.random.randn(101) * 5) * w + b\n",
        "\n",
        "plt.plot(x_lin, y, 'b.', label = 'data points')\n",
        "plt.title(\"Assume we have data points\")\n",
        "plt.legend(loc = 2)\n",
        "plt.show()"
      ]
    },
    {
      "cell_type": "code",
      "execution_count": null,
      "metadata": {
        "collapsed": true,
        "colab": {
          "base_uri": "https://localhost:8080/",
          "height": 281
        },
        "id": "rGIHikUxeeiC",
        "outputId": "a7897150-f2cb-42f2-c100-b1b7556e9250"
      },
      "outputs": [
        {
          "output_type": "display_data",
          "data": {
            "text/plain": [
              "<Figure size 432x288 with 1 Axes>"
            ],
            "image/png": "[encoded data removed]"
          },
          "metadata": {
            "needs_background": "light"
          }
        }
      ],
      "source": [
        "# 與範例相同, 不另外解說\n",
        "y_hat = x_lin * w + b\n",
        "plt.plot(x_lin, y, 'b.', label = 'data')\n",
        "plt.plot(x_lin, y_hat, 'r-', label = 'prediction')\n",
        "plt.title(\"Assume we have data points (And the prediction)\")\n",
        "plt.legend(loc = 2)\n",
        "plt.show()"
      ]
    },
    {
      "cell_type": "code",
      "execution_count": null,
      "metadata": {
        "collapsed": true,
        "colab": {
          "base_uri": "https://localhost:8080/"
        },
        "id": "8UeI91pueeiE",
        "outputId": "625f1ad9-1214-41d7-fd2c-ee17d5a63ee8"
      },
      "outputs": [
        {
          "output_type": "stream",
          "name": "stdout",
          "text": [
            "The Mean squared error is 188.732\n",
            "The Mean absolute error is 11.279\n"
          ]
        }
      ],
      "source": [
        "# 執行 Function, 確認有沒有正常執行\n",
        "MSE = mean_squared_error(y, y_hat)\n",
        "MAE = mean_absolute_error(y, y_hat)\n",
        "print(\"The Mean squared error is %.3f\" % (MSE))\n",
        "print(\"The Mean absolute error is %.3f\" % (MAE))"
      ]
    },
    {
      "cell_type": "markdown",
      "metadata": {
        "id": "Knu92leXeeiF"
      },
      "source": [
        "# [作業2]\n",
        "\n",
        "請上 Kaggle, 在 Competitions 或 Dataset 中找一組競賽或資料並寫下：\n",
        "\n",
        "1. 你選的這組資料為何重要\n",
        "\n",
        "2. 資料從何而來 (tips: 譬如提供者是誰、以什麼方式蒐集)\n",
        "\n",
        "3. 蒐集而來的資料型態為何\n",
        "\n",
        "4. 這組資料想解決的問題如何評估\n",
        "\n",
        "# [作業3]\n",
        "\n",
        "想像你經營一個自由載客車隊，你希望能透過數據分析以提升業績，請你思考並描述你如何規劃整體的分析/解決方案：\n",
        "\n",
        "1. 核心問題為何 (tips：如何定義 「提升業績 & 你的假設」)\n",
        "\n",
        "2. 資料從何而來 (tips：哪些資料可能會對你想問的問題產生影響 & 資料如何蒐集)\n",
        "\n",
        "3. 蒐集而來的資料型態為何\n",
        "\n",
        "4. 你要回答的問題，其如何評估 (tips：你的假設如何驗證)"
      ]
    },
    {
      "cell_type": "markdown",
      "source": [
        "##[作業2]\n",
        "我選擇的是\n",
        "https://www.kaggle.com/competitions/titanic/discussion\n",
        "鐵達尼號機器學習\n",
        "\n",
        "1. 你選的這組資料為何重要\n",
        "\n",
        "    之前有上過一些課程，鐵達尼號這個競賽算是大家都會拿來練習的競賽\n",
        "\n",
        "2. 資料從何而來 (tips: 譬如提供者是誰、以什麼方式蒐集)\n",
        "\n",
        "    資料提供者看起來kaggle\n",
        "\n",
        "3. 蒐集而來的資料型態為何\n",
        "\n",
        "    裡面包含字串跟數字\n",
        "\n",
        "4. 這組資料想解決的問題如何評估\n",
        "\n",
        "    這組資料是要運用機器學習的方法，訓練模型預測生存機率\n",
        " "
      ],
      "metadata": {
        "id": "Uf97FEeYhzTR"
      }
    },
    {
      "cell_type": "markdown",
      "source": [
        "# [作業3]\n",
        "\n",
        "想像你經營一個自由載客車隊，你希望能透過數據分析以提升業績，請你思考並描述你如何規劃整體的分析/解決方案：\n",
        "\n",
        "1. 核心問題為何 (tips：如何定義 「提升業績 & 你的假設」)\n",
        "\n",
        "    提升業績的方法要先定義何謂業績，看業績是指載客率、載客總時程(時間越長代表金額越高)、載客距離\n",
        "    通常在假設應該會提高載客率及平均載客距離\n",
        "\n",
        "2. 資料從何而來 (tips：哪些資料可能會對你想問的問題產生影響 & 資料如何蒐集)\n",
        "\n",
        "    資料需要收集車隊內每一台車每天客人上車時間、上車地點、行經哪裡、到達哪裡、耗時多長、客戶各種個人資料(包含年紀、性別、穿著、職業等)所能收集的個資\n",
        "\n",
        "3. 蒐集而來的資料型態為何\n",
        "\n",
        "    地點為字串，可以拆解成區域還是路名以便分析\n",
        "    個資包含數值跟字串，為了分析搭稱成員了解甚麼種類的人搭車\n",
        "\n",
        "4. 你要回答的問題，其如何評估 (tips：你的假設如何驗證)\n",
        "\n",
        "    運用所收集到的資料，可以分析甚麼時間在甚麼地點比較多人搭車，可以讓還未載客的司機前往潛在乘客出沒點，減少司機巡迴找尋客人時間\n",
        "    驗證方法可以將原始所蒐集到的資料，進行模型推測，發現載客點，廣為蒐集資料，可以找到哪種乘客在哪裡搭車讓司機賺比較多，或是哪個時段在哪裡搭車可以減少司機等課時間，模型出來後可以讓司機嘗試推論，推論資料先掩蓋成果回去模型驗證是否成功"
      ],
      "metadata": {
        "id": "FiPo4tR6jvKK"
      }
    }
  ],
  "metadata": {
    "anaconda-cloud": {},
    "kernelspec": {
      "display_name": "Python 3",
      "language": "python",
      "name": "python3"
    },
    "language_info": {
      "codemirror_mode": {
        "name": "ipython",
        "version": 3
      },
      "file_extension": ".py",
      "mimetype": "text/x-python",
      "name": "python",
      "nbconvert_exporter": "python",
      "pygments_lexer": "ipython3",
      "version": "3.7.0"
    },
    "colab": {
      "name": "Day_001_HW.ipynb",
      "provenance": [],
      "collapsed_sections": [],
      "include_colab_link": true
    }
  },
  "nbformat": 4,
  "nbformat_minor": 0
}